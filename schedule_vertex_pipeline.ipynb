{
 "cells": [
  {
   "cell_type": "markdown",
   "id": "6af7686a-0cbd-48fc-8137-7172ae3dad90",
   "metadata": {},
   "source": [
    "# Scheduling Vertex Pipelines with Cloud Scheduler"
   ]
  },
  {
   "cell_type": "markdown",
   "id": "b84cc5b6-1e9b-4c39-80c1-2ac7d77b6a8c",
   "metadata": {
    "tags": []
   },
   "source": [
    "## Setup"
   ]
  },
  {
   "cell_type": "markdown",
   "id": "25931498-3772-41fd-a8bf-fd481312f26b",
   "metadata": {},
   "source": [
    "Pip install Kubeflow Pipelines SDK ([kfp](https://pypi.org/project/kfp/#history)) version v2.0.0b1 or higher ([required by Artifact Registry](https://cloud.google.com/vertex-ai/docs/pipelines/create-pipeline-template)) along with the Vertex AI SDK (aiplatform) and other required packages:"
   ]
  },
  {
   "cell_type": "code",
   "execution_count": null,
   "id": "9f4db71e-cc39-4eda-a1e1-0d7333316657",
   "metadata": {
    "scrolled": true,
    "tags": []
   },
   "outputs": [],
   "source": [
    "%pip install kfp==2.0.0b11 google-cloud-aiplatform==1.19.0 google-api-python-client==1.8.0 \\\n",
    "    --user \\\n",
    "    --index-url https://repository.walmart.com/repository/pypi-proxy/simple/ \\\n",
    "    --default-timeout 300"
   ]
  },
  {
   "cell_type": "markdown",
   "id": "e486cc7d-ca99-48a1-b61f-d5c04ab5a921",
   "metadata": {},
   "source": [
    "Restart kernel:"
   ]
  },
  {
   "cell_type": "code",
   "execution_count": null,
   "id": "1862031c-ae65-4786-870c-ce45e64d346c",
   "metadata": {},
   "outputs": [],
   "source": [
    "# Automatically restart kernel after installs\n",
    "import os\n",
    "\n",
    "if not os.getenv(\"IS_TESTING\"):\n",
    "    # Automatically restart kernel after installs\n",
    "    import IPython\n",
    "\n",
    "    app = IPython.Application.instance()\n",
    "    app.kernel.do_shutdown(True)"
   ]
  },
  {
   "cell_type": "markdown",
   "id": "749863ff-7310-4000-824b-c36acdf14b25",
   "metadata": {},
   "source": [
    "Verify your Kubeflow Pipelines SDK ([kfp](https://pypi.org/project/kfp/#history)) is version v2.0.0b1 or higher ([required by Artifact Registry](https://cloud.google.com/vertex-ai/docs/pipelines/create-pipeline-template)):"
   ]
  },
  {
   "cell_type": "code",
   "execution_count": null,
   "id": "1105ca6f-5abe-434a-973f-712c7ccc3dfc",
   "metadata": {},
   "outputs": [],
   "source": [
    "import kfp\n",
    "kfp.__version__"
   ]
  },
  {
   "cell_type": "markdown",
   "id": "d0f7af6f-765f-47fe-b049-8204f027ea71",
   "metadata": {},
   "source": [
    "Either manually set your PROJECT_ID or use the below `gcloud` command to retrieve it:"
   ]
  },
  {
   "cell_type": "code",
   "execution_count": null,
   "id": "0709debe-4520-4f1b-af78-06eaea116665",
   "metadata": {},
   "outputs": [],
   "source": [
    "shell_output = ! gcloud config list --format 'value(core.project)' 2>/dev/null\n",
    "PROJECT_ID=shell_output[0]\n",
    "\n",
    "PROJECT_ID"
   ]
  },
  {
   "cell_type": "markdown",
   "id": "ef4489e1-a981-4cd1-98d8-c86c799e868f",
   "metadata": {},
   "source": [
    "Set the region or leave it as `us-central1`.\n",
    "\n",
    "Note: If you change the region, make sure your network is configured to run in that region."
   ]
  },
  {
   "cell_type": "code",
   "execution_count": null,
   "id": "453b8d31-bc5a-4a48-b2b1-4232ccac1813",
   "metadata": {},
   "outputs": [],
   "source": [
    "REGION=\"us-central1\""
   ]
  },
  {
   "cell_type": "markdown",
   "id": "4fadf03d-7d39-49cd-8055-d2160e81912e",
   "metadata": {},
   "source": [
    "Set your GCS bucket name:"
   ]
  },
  {
   "cell_type": "code",
   "execution_count": null,
   "id": "ad7b8318-5aa9-4fc7-a1d1-f65487ec6aaf",
   "metadata": {},
   "outputs": [],
   "source": [
    "GCS_BUCKET_NAME=\"ADD YOUR GCS BUCKET NAME\"\n",
    "GCS_BUCKET_URI=f\"gs://{GCS_BUCKET_NAME}\""
   ]
  },
  {
   "cell_type": "markdown",
   "id": "28043f1a-3399-4d3b-811d-4d59ee0ff189",
   "metadata": {},
   "source": [
    "**Only if your bucket doesn't already exist:** Run the following cell to create your Cloud Storage bucket"
   ]
  },
  {
   "cell_type": "code",
   "execution_count": null,
   "id": "623f5880-1e18-4a2a-935d-17344ccf7adf",
   "metadata": {},
   "outputs": [],
   "source": [
    "! gsutil mb -l $REGION $GCS_BUCKET_URI"
   ]
  },
  {
   "cell_type": "markdown",
   "id": "35c97af5-9dfa-4a6e-a860-744e263d9448",
   "metadata": {},
   "source": [
    "Finally, validate access to your Cloud Storage bucket by examining its contents:"
   ]
  },
  {
   "cell_type": "code",
   "execution_count": null,
   "id": "b971cd00-7f74-4d01-9b97-d39627015b25",
   "metadata": {},
   "outputs": [],
   "source": [
    "! gsutil ls -al $BUCKET_URI"
   ]
  },
  {
   "cell_type": "markdown",
   "id": "d55c90ef-3124-4b8e-a860-992ae987c725",
   "metadata": {},
   "source": [
    "## Define and Compile Pipeline"
   ]
  },
  {
   "cell_type": "markdown",
   "id": "802e61e0-9be4-4f70-ab36-bc6c08e0f59f",
   "metadata": {},
   "source": [
    "Imports:"
   ]
  },
  {
   "cell_type": "code",
   "execution_count": null,
   "id": "07007139-dbc6-4484-9c68-fb33e5b76473",
   "metadata": {},
   "outputs": [],
   "source": [
    "from kfp import compiler\n",
    "from kfp.dsl import pipeline, component, Artifact, Dataset, Model, Input, Output, OutputPath, InputPath\n",
    "from typing import NamedTuple"
   ]
  },
  {
   "cell_type": "markdown",
   "id": "ad4e7b7e-e697-437e-86f3-7f82dfd5fc9c",
   "metadata": {},
   "source": [
    "Set pipeline inputs or use suggested values set below:"
   ]
  },
  {
   "cell_type": "code",
   "execution_count": null,
   "id": "be6762c5-cddf-4b43-9f0d-eaba4b9a632c",
   "metadata": {},
   "outputs": [],
   "source": [
    "PIPELINE_NETWORK=\"projects/12856960411/global/networks/vpcnet-private-svc-access-usc1\"\n",
    "PIPELINE_NAME=\"hello-world-pipeline\"\n",
    "PIPELINE_ROOT=f\"{GCS_BUCKET_URI}/pipeline-root/{PIPELINE_NAME}\"\n",
    "PIPELINE_YAML=\"hello_world_pipeline.yaml\"\n",
    "PIPELINE_PARAMS={\"text\": \"Hello World!\"}"
   ]
  },
  {
   "cell_type": "markdown",
   "id": "212f1181-b689-49f1-a3bc-70aa81ee0fae",
   "metadata": {},
   "source": [
    "Hello world component:"
   ]
  },
  {
   "cell_type": "code",
   "execution_count": null,
   "id": "601cab75-7fdb-4124-a15e-595b06a03586",
   "metadata": {},
   "outputs": [],
   "source": [
    "@component\n",
    "def hello_world(text: str):\n",
    "    print(text)"
   ]
  },
  {
   "cell_type": "markdown",
   "id": "e52097fb-5460-4c9b-85c8-66410f7f9443",
   "metadata": {},
   "source": [
    "Pipeline definition:"
   ]
  },
  {
   "cell_type": "code",
   "execution_count": null,
   "id": "702d0311-5f0d-427c-aa99-17606557a4f3",
   "metadata": {},
   "outputs": [],
   "source": [
    "@pipeline(\n",
    "    name=PIPELINE_NAME,\n",
    "    description=\"Hello world example pipeline\",\n",
    "    pipeline_root=PIPELINE_ROOT,\n",
    ")\n",
    "def pipeline(text: str = \"Hello world!\"):\n",
    "    hello_world(text=text)"
   ]
  },
  {
   "cell_type": "markdown",
   "id": "1415ba8a-9c94-454c-a995-ebeb8d86ddfa",
   "metadata": {},
   "source": [
    "Compile pipeline into YAML file:"
   ]
  },
  {
   "cell_type": "code",
   "execution_count": null,
   "id": "c544fa7e-e908-47df-9cb1-16dd83863d70",
   "metadata": {},
   "outputs": [],
   "source": [
    "compiler.Compiler().compile(\n",
    "    pipeline_func=pipeline, package_path=PIPELINE_YAML\n",
    ")"
   ]
  },
  {
   "cell_type": "markdown",
   "id": "5d30fbb6-fe20-4077-9a48-7be36be00111",
   "metadata": {},
   "source": [
    "Take a look at the contents of the pipeline definition YAML:"
   ]
  },
  {
   "cell_type": "code",
   "execution_count": null,
   "id": "ad584fed-7018-4558-911c-e8b5c08983c0",
   "metadata": {
    "scrolled": true,
    "tags": []
   },
   "outputs": [],
   "source": [
    "! cat $PIPELINE_YAML"
   ]
  },
  {
   "cell_type": "markdown",
   "id": "638ca64d-9c75-4d38-adda-01cc65c227fe",
   "metadata": {},
   "source": [
    "## Create kfp Artifact Registry and Upload Pipeline Template"
   ]
  },
  {
   "cell_type": "markdown",
   "id": "e690f71d-f363-4ac1-bd22-8556b7e31c97",
   "metadata": {},
   "source": [
    "Set the name for your kfp Artifact Registry or use sugggested value below:"
   ]
  },
  {
   "cell_type": "code",
   "execution_count": null,
   "id": "79bbcabd-57db-45f6-a90e-5303b1f7537c",
   "metadata": {},
   "outputs": [],
   "source": [
    "KFP_REG_NAME=\"kfp-registry\""
   ]
  },
  {
   "cell_type": "markdown",
   "id": "f322c7e6-04be-4758-b300-4817dcf7b9fd",
   "metadata": {},
   "source": [
    "Create a kfp Artifact Registry if you don't already have one:"
   ]
  },
  {
   "cell_type": "code",
   "execution_count": null,
   "id": "5783dee3-b3dd-40a9-b16d-805a3d0cab72",
   "metadata": {},
   "outputs": [],
   "source": [
    "! gcloud artifacts repositories create $KFP_REG_NAME \\\n",
    "    --location=$REGION \\\n",
    "    --repository-format=KFP"
   ]
  },
  {
   "cell_type": "markdown",
   "id": "0c08a41a-2634-4706-9871-bf01bcbed1af",
   "metadata": {},
   "source": [
    "Connect to registry via client:"
   ]
  },
  {
   "cell_type": "code",
   "execution_count": null,
   "id": "aee37d32-cc53-4050-ba65-dac670bec1bf",
   "metadata": {},
   "outputs": [],
   "source": [
    "from kfp.registry import RegistryClient\n",
    "\n",
    "client = RegistryClient(host=f\"https://{REGION}-kfp.pkg.dev/{PROJECT_ID}/{KFP_REG_NAME}\")"
   ]
  },
  {
   "cell_type": "markdown",
   "id": "e49b9880-1227-4b34-855d-0774412e9b32",
   "metadata": {},
   "source": [
    "Set pipeline template tags (like version) and generate template URL path from other inputs:"
   ]
  },
  {
   "cell_type": "code",
   "execution_count": null,
   "id": "0e619bab-6526-4913-9f5b-9ba0c4389abf",
   "metadata": {},
   "outputs": [],
   "source": [
    "TEMPLATE_TAGS=[\"v1\", \"latest\"]\n",
    "TEMPLATE_PATH=f\"https://{REGION}-kfp.pkg.dev/{PROJECT_ID}/{KFP_REG_NAME}/{PIPELINE_NAME}/{TEMPLATE_TAGS[0]}\""
   ]
  },
  {
   "cell_type": "markdown",
   "id": "8441191a-e0c6-4735-824a-1f56c8180bfb",
   "metadata": {},
   "source": [
    "Upload pipeline template to the registry with extra headers like a description:"
   ]
  },
  {
   "cell_type": "code",
   "execution_count": null,
   "id": "b9a21898-1360-4124-bd02-e1ce0990287b",
   "metadata": {},
   "outputs": [],
   "source": [
    "templateName, versionName = client.upload_pipeline(\n",
    "    file_name=PIPELINE_YAML,\n",
    "    tags=TEMPLATE_TAGS,\n",
    "    extra_headers={\"description\":\"This is an example hello world pipeline template.\"})"
   ]
  },
  {
   "cell_type": "markdown",
   "id": "dedd5ee8-5b4e-44f1-89a1-24d5410a9e1c",
   "metadata": {},
   "source": [
    "Setting default compute engine service account for pipeline:"
   ]
  },
  {
   "cell_type": "code",
   "execution_count": null,
   "id": "d7902818-2d51-4a29-8f65-c61ee99cd9ab",
   "metadata": {},
   "outputs": [],
   "source": [
    "shell_output = ! gcloud projects describe $PROJECT_ID\n",
    "project_number = shell_output[-1].split(\":\")[1].strip().replace(\"'\", \"\")\n",
    "PIPELINE_SA = f\"{project_number}-compute@developer.gserviceaccount.com\"\n",
    "\n",
    "PIPELINE_SA"
   ]
  },
  {
   "cell_type": "markdown",
   "id": "259a2e90-8396-46fb-93f6-ea0d78e0d214",
   "metadata": {},
   "source": [
    "If you'd like to use a custom service account for the pipeline (rather than the default compute engine service account), then add your custom service account below:"
   ]
  },
  {
   "cell_type": "code",
   "execution_count": null,
   "id": "a30c1df3-ae2c-46da-90ae-314f9b4aad4d",
   "metadata": {},
   "outputs": [],
   "source": [
    "# PIPELINE_SA=\"\""
   ]
  },
  {
   "cell_type": "markdown",
   "id": "799e0e3f-5d30-4136-bf18-cbdd486cba12",
   "metadata": {},
   "source": [
    "## Run the Vertex Pipeline via SDK and CURL"
   ]
  },
  {
   "cell_type": "markdown",
   "id": "dc4a18ad-d437-497c-a336-7bef63699cb4",
   "metadata": {},
   "source": [
    "Import the Vertex SDK (aiplatform) and run the Vertex pipeline with kfp Artifact Registry template path:"
   ]
  },
  {
   "cell_type": "code",
   "execution_count": null,
   "id": "49103e4e-f605-4d70-aa31-0e40d1c85659",
   "metadata": {},
   "outputs": [],
   "source": [
    "import google.cloud.aiplatform as vertex"
   ]
  },
  {
   "cell_type": "code",
   "execution_count": null,
   "id": "84ca6304-d080-4bc5-b28c-d3b142748bcd",
   "metadata": {},
   "outputs": [],
   "source": [
    "job = vertex.PipelineJob(\n",
    "    display_name=PIPELINE_NAME,\n",
    "    template_path=TEMPLATE_PATH,\n",
    "    project=PROJECT_ID,\n",
    "    location=REGION,\n",
    "    parameter_values=PIPELINE_PARAMS,\n",
    "    enable_caching=False)\n",
    "\n",
    "job.submit(network=PIPELINE_NETWORK, service_account=PIPELINE_SA)"
   ]
  },
  {
   "cell_type": "markdown",
   "id": "b2930f92-0463-4faa-a338-5f1379ce9179",
   "metadata": {},
   "source": [
    "Set the Vertex AI endpoint and auth token, and construct the URL and JSON body for the CURL command (refer to the [pipelineJobs REST API documentation](https://cloud.google.com/vertex-ai/docs/reference/rest/v1/projects.locations.pipelineJobs) for more details):"
   ]
  },
  {
   "cell_type": "code",
   "execution_count": null,
   "id": "05d493a0-796f-43ff-9460-adb8f4baf96f",
   "metadata": {},
   "outputs": [],
   "source": [
    "ENDPOINT=f\"https://{REGION}-aiplatform.googleapis.com/v1\"\n",
    "shell_output=!gcloud auth application-default print-access-token\n",
    "AUTH_TOKEN=shell_output[0]\n",
    "URL=f\"{ENDPOINT}/projects/{PROJECT_ID}/locations/{REGION}/pipelineJobs\"\n",
    "\n",
    "RUNTIME_BODY={\n",
    "    \"displayName\": PIPELINE_NAME,\n",
    "    \"runtimeConfig\": {\n",
    "            \"parameterValues\": PIPELINE_PARAMS,\n",
    "            \"gcsOutputDirectory\": PIPELINE_ROOT,\n",
    "    },\n",
    "    \"network\": PIPELINE_NETWORK,\n",
    "    \"templateUri\": TEMPLATE_PATH,\n",
    "    \"serviceAccount\": PIPELINE_SA\n",
    "}\n",
    "\n",
    "RUNTIME_BODY"
   ]
  },
  {
   "cell_type": "markdown",
   "id": "bf531db3-343d-45a4-8647-e2a8ec5daf2e",
   "metadata": {},
   "source": [
    "Run the Vertex pipeline via the below CURL command:"
   ]
  },
  {
   "cell_type": "code",
   "execution_count": null,
   "id": "389eb4f1-fb4f-4802-baa6-113a83b03988",
   "metadata": {
    "scrolled": true,
    "tags": []
   },
   "outputs": [],
   "source": [
    "! curl -X POST $URL?pipelineJobId=$PIPELINE_NAME-$(date +%Y%m%d%H%M%S) -d \"$RUNTIME_BODY\" \\\n",
    " -H \"Content-Type: application/json\" \\\n",
    " -H \"Authorization: Bearer $AUTH_TOKEN\" -v"
   ]
  },
  {
   "cell_type": "markdown",
   "id": "e1eb9413-01fb-4eae-9dac-1ad5e76045d7",
   "metadata": {},
   "source": [
    "Note if you'd like to disable caching when running the pipeline via the REST API, you must edit the pipeline spec YAML file directly (set `enableCache` to `false`) and then re-upload the pipeline spec to the kfp artifact registry). See the example below:\n",
    "```yaml\n",
    "root:\n",
    "  dag:\n",
    "    tasks:\n",
    "      hello-world:\n",
    "        cachingOptions:\n",
    "          enableCache: false\n",
    "```"
   ]
  },
  {
   "cell_type": "markdown",
   "id": "86281f68-21a0-4bad-9a4c-a44b739b0f7e",
   "metadata": {},
   "source": [
    "## Create Cloud Scheduler Job to Run Vertex Pipeline"
   ]
  },
  {
   "cell_type": "markdown",
   "id": "13209004-b967-405c-8d0d-b66bc526cc68",
   "metadata": {},
   "source": [
    "Set Cloud Scheduler specific inputs like name, cron schedule, time zone, and service account (below command sets the default compute engine service account):"
   ]
  },
  {
   "cell_type": "code",
   "execution_count": null,
   "id": "16eeac5a-978f-486e-af2e-3cd3b0cd75b7",
   "metadata": {},
   "outputs": [],
   "source": [
    "SCHEDULE_NAME=f\"{PIPELINE_NAME}-http-schedule-csa\"\n",
    "SCHEDULE_CRON=\"0 */3 * * *\"\n",
    "SCHEDULE_TIME_ZONE=\"PST\"\n",
    "\n",
    "shell_output = ! gcloud projects describe $PROJECT_ID\n",
    "project_number = shell_output[-1].split(\":\")[1].strip().replace(\"'\", \"\")\n",
    "SCHEDULE_SERVICE_ACCOUNT = f\"{project_number}-compute@developer.gserviceaccount.com\"\n",
    "\n",
    "SCHEDULE_SERVICE_ACCOUNT"
   ]
  },
  {
   "cell_type": "markdown",
   "id": "554cdd5a-b811-4977-8ba9-bfc13824ab30",
   "metadata": {},
   "source": [
    "If you'd like to use a custom service account for the Cloud Scheduler job (rather than the default compute engine service account), then add your custom service account below:"
   ]
  },
  {
   "cell_type": "code",
   "execution_count": null,
   "id": "7c43eaef-ca7c-4f16-9dda-3f42d406305b",
   "metadata": {},
   "outputs": [],
   "source": [
    "# SCHEDULE_SERVICE_ACCOUNT=\"\""
   ]
  },
  {
   "cell_type": "markdown",
   "id": "94251463-6398-40f0-a88f-d2dffd283817",
   "metadata": {},
   "source": [
    "Note the Cloud Scheduler service account must have the `iam.serviceAccounts.actAs` permission for the pipeline service account (which is included in the `Service Account User role`). See [documentation](https://cloud.google.com/iam/docs/understanding-roles#iam.serviceAccountUser) for more details."
   ]
  },
  {
   "cell_type": "markdown",
   "id": "3847ba3b-b4ca-4706-b200-aac6f1315df7",
   "metadata": {},
   "source": [
    "Create Cloud Scheduler job (see [documentation](https://cloud.google.com/sdk/gcloud/reference/scheduler/jobs/create/http) for details on the arguments):"
   ]
  },
  {
   "cell_type": "code",
   "execution_count": null,
   "id": "77a9b5bb-b449-4218-895a-c2ebb9010764",
   "metadata": {},
   "outputs": [],
   "source": [
    "! gcloud scheduler jobs create http $SCHEDULE_NAME \\\n",
    "    --schedule=\"$SCHEDULE_CRON\" \\\n",
    "    --time-zone=$SCHEDULE_TIME_ZONE \\\n",
    "    --uri=$URL \\\n",
    "    --http-method=POST \\\n",
    "    --oauth-service-account-email=$SCHEDULE_SERVICE_ACCOUNT \\\n",
    "    --headers=Content-Type=application/json,User-Agent=Google-Cloud-Scheduler \\\n",
    "    --max-retry-attempts=2 \\\n",
    "    --message-body=\"$RUNTIME_BODY\" \\\n",
    "    --location=$REGION"
   ]
  },
  {
   "cell_type": "markdown",
   "id": "3a1e4ac1-7108-4cde-abb0-80c24576a0d7",
   "metadata": {},
   "source": [
    "Manually trigger Cloud Scheduler job:"
   ]
  },
  {
   "cell_type": "code",
   "execution_count": null,
   "id": "ab5b122f-a105-4b46-a7c3-b5f035168cbe",
   "metadata": {},
   "outputs": [],
   "source": [
    "! gcloud scheduler jobs run $SCHEDULE_NAME \\\n",
    "    --location $REGION \\\n",
    "    --quiet"
   ]
  },
  {
   "cell_type": "markdown",
   "id": "ed96c97a-5aac-4f13-9a7e-b270156640b9",
   "metadata": {},
   "source": [
    "Describe the Cloud Scheduler job:"
   ]
  },
  {
   "cell_type": "code",
   "execution_count": null,
   "id": "9e204f58-8763-4a48-8194-c0ac677f4e24",
   "metadata": {},
   "outputs": [],
   "source": [
    "! gcloud scheduler jobs describe $SCHEDULE_NAME \\\n",
    "    --location $REGION"
   ]
  },
  {
   "cell_type": "markdown",
   "id": "5a95918c-d4e0-4abe-a57d-8cbcbd316cdf",
   "metadata": {},
   "source": [
    "## Cleanup"
   ]
  },
  {
   "cell_type": "markdown",
   "id": "511a4f22-32b3-42cb-bdd0-42b069ff9609",
   "metadata": {},
   "source": [
    "Delete Cloud Scheduler job:"
   ]
  },
  {
   "cell_type": "code",
   "execution_count": null,
   "id": "1f398354-6e9a-4e31-8fad-9fc943003ab4",
   "metadata": {},
   "outputs": [],
   "source": [
    "! gcloud scheduler jobs delete $SCHEDULE_NAME \\\n",
    "    --location $REGION \\\n",
    "    --quiet"
   ]
  },
  {
   "cell_type": "markdown",
   "id": "537b50be-d087-43f2-a821-dc00eea3ca1f",
   "metadata": {},
   "source": [
    "**Only delete if you'd like to delete the entire kfp Artifact Registry that was listed above:**"
   ]
  },
  {
   "cell_type": "code",
   "execution_count": null,
   "id": "aaa04eef-badb-493e-ab0a-04e1ac65bbf6",
   "metadata": {},
   "outputs": [],
   "source": [
    "! gcloud artifacts repositories delete $KFP_REG_NAME \\\n",
    "    --location $REGION \\\n",
    "    --quiet"
   ]
  }
 ],
 "metadata": {
  "environment": {
   "kernel": "pre-kfp",
   "name": "tf2-gpu.2-8.m97",
   "type": "gcloud",
   "uri": "gcr.io/deeplearning-platform-release/tf2-gpu.2-8:m97"
  },
  "kernelspec": {
   "display_name": "pre-kfp",
   "language": "python",
   "name": "pre-kfp"
  },
  "language_info": {
   "codemirror_mode": {
    "name": "ipython",
    "version": 3
   },
   "file_extension": ".py",
   "mimetype": "text/x-python",
   "name": "python",
   "nbconvert_exporter": "python",
   "pygments_lexer": "ipython3",
   "version": "3.9.13"
  }
 },
 "nbformat": 4,
 "nbformat_minor": 5
}
